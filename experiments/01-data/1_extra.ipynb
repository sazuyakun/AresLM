{
 "cells": [
  {
   "cell_type": "markdown",
   "id": "45b6ed1d",
   "metadata": {},
   "source": [
    "## Comparing Embedding layer with dense + one-hot encoding\n",
    "---\n",
    "### 1. Using nn.embedding"
   ]
  },
  {
   "cell_type": "code",
   "execution_count": 1,
   "id": "34801a3e",
   "metadata": {},
   "outputs": [],
   "source": [
    "import torch\n",
    "import torch.nn as nn"
   ]
  },
  {
   "cell_type": "code",
   "execution_count": 24,
   "id": "7a2f50d5",
   "metadata": {},
   "outputs": [],
   "source": [
    "temp_input = torch.tensor([3, 2, 0, 1])\n",
    "\n",
    "num_idx = temp_input.max() + 1\n",
    "out_dim = 5"
   ]
  },
  {
   "cell_type": "code",
   "execution_count": 25,
   "id": "7466b8fa",
   "metadata": {},
   "outputs": [],
   "source": [
    "embedding_layer = nn.Embedding(num_idx, out_dim)"
   ]
  },
  {
   "cell_type": "code",
   "execution_count": 26,
   "id": "39e09558",
   "metadata": {},
   "outputs": [
    {
     "data": {
      "text/plain": [
       "Parameter containing:\n",
       "tensor([[ 0.3374, -0.1778, -0.3035, -0.5880,  1.5810],\n",
       "        [ 1.3010,  1.2753, -0.2010, -0.1606, -0.4015],\n",
       "        [ 0.6957, -1.8061, -1.1589,  0.3255, -0.6315],\n",
       "        [-2.8400, -0.7849, -1.4096, -0.4076,  0.7953]], requires_grad=True)"
      ]
     },
     "execution_count": 26,
     "metadata": {},
     "output_type": "execute_result"
    }
   ],
   "source": [
    "embedding_layer.weight"
   ]
  },
  {
   "cell_type": "code",
   "execution_count": 27,
   "id": "e7536fba",
   "metadata": {},
   "outputs": [
    {
     "data": {
      "text/plain": [
       "tensor([[ 1.3010,  1.2753, -0.2010, -0.1606, -0.4015]],\n",
       "       grad_fn=<EmbeddingBackward0>)"
      ]
     },
     "execution_count": 27,
     "metadata": {},
     "output_type": "execute_result"
    }
   ],
   "source": [
    "embedding_layer(torch.tensor([1]))\n",
    "\n",
    "# Looks up the embedding for the token with index 1\n",
    "# So the index 1 vector from embedding_layer.weight is returned"
   ]
  },
  {
   "cell_type": "code",
   "execution_count": 32,
   "id": "7297f304",
   "metadata": {},
   "outputs": [
    {
     "data": {
      "text/plain": [
       "tensor([[-2.8400, -0.7849, -1.4096, -0.4076,  0.7953],\n",
       "        [ 0.6957, -1.8061, -1.1589,  0.3255, -0.6315],\n",
       "        [ 0.3374, -0.1778, -0.3035, -0.5880,  1.5810],\n",
       "        [ 1.3010,  1.2753, -0.2010, -0.1606, -0.4015]],\n",
       "       grad_fn=<EmbeddingBackward0>)"
      ]
     },
     "execution_count": 32,
     "metadata": {},
     "output_type": "execute_result"
    }
   ],
   "source": [
    "embedding_layer(torch.tensor([3, 2, 0, 1]))\n",
    "# Lookup table:\n",
    "# tensor([[ 0.3374, -0.1778, -0.3035, -0.5880,  1.5810],\n",
    "#         [ 1.3010,  1.2753, -0.2010, -0.1606, -0.4015],\n",
    "#         [ 0.6957, -1.8061, -1.1589,  0.3255, -0.6315],\n",
    "#         [-2.8400, -0.7849, -1.4096, -0.4076,  0.7953]], requires_grad=True)"
   ]
  },
  {
   "cell_type": "markdown",
   "id": "31aea163",
   "metadata": {},
   "source": [
    "### 2. Using nn.Linear"
   ]
  },
  {
   "cell_type": "code",
   "execution_count": 33,
   "id": "7a4bbf8d",
   "metadata": {},
   "outputs": [],
   "source": [
    "import torch\n",
    "import torch.nn as nn\n",
    "import torch.nn.functional as F"
   ]
  },
  {
   "cell_type": "code",
   "execution_count": 34,
   "id": "9e240973",
   "metadata": {},
   "outputs": [
    {
     "data": {
      "text/plain": [
       "tensor([[0, 0, 0, 1],\n",
       "        [0, 0, 1, 0],\n",
       "        [1, 0, 0, 0],\n",
       "        [0, 1, 0, 0]])"
      ]
     },
     "execution_count": 34,
     "metadata": {},
     "output_type": "execute_result"
    }
   ],
   "source": [
    "temp_input = torch.tensor([3, 2, 0, 1])\n",
    "onehot = F.one_hot(temp_input)\n",
    "onehot"
   ]
  },
  {
   "cell_type": "markdown",
   "id": "7fcbe567",
   "metadata": {},
   "source": [
    "Next, we initialize a `Linear` layer, which carries out a matrix multiplication $X W^T$:"
   ]
  },
  {
   "cell_type": "code",
   "execution_count": 41,
   "id": "c600a3f5",
   "metadata": {},
   "outputs": [
    {
     "data": {
      "text/plain": [
       "Parameter containing:\n",
       "tensor([[-0.2039,  0.0166, -0.2483,  0.1886],\n",
       "        [-0.4260,  0.3665, -0.3634, -0.3975],\n",
       "        [-0.3159,  0.2264, -0.1847,  0.1871],\n",
       "        [-0.4244, -0.3034, -0.1836, -0.0983],\n",
       "        [-0.3814,  0.3274, -0.1179,  0.1605]], requires_grad=True)"
      ]
     },
     "execution_count": 41,
     "metadata": {},
     "output_type": "execute_result"
    }
   ],
   "source": [
    "torch.manual_seed(123)\n",
    "\n",
    "linear_layer = nn.Linear(num_idx, out_dim, bias=False)\n",
    "linear_layer.weight"
   ]
  },
  {
   "cell_type": "code",
   "execution_count": 42,
   "id": "f4f87c66",
   "metadata": {},
   "outputs": [],
   "source": [
    "linear_layer.weight = nn.Parameter(embedding_layer.weight.T)"
   ]
  },
  {
   "cell_type": "code",
   "execution_count": 43,
   "id": "e37c5e57",
   "metadata": {},
   "outputs": [
    {
     "data": {
      "text/plain": [
       "Parameter containing:\n",
       "tensor([[ 0.3374,  1.3010,  0.6957, -2.8400],\n",
       "        [-0.1778,  1.2753, -1.8061, -0.7849],\n",
       "        [-0.3035, -0.2010, -1.1589, -1.4096],\n",
       "        [-0.5880, -0.1606,  0.3255, -0.4076],\n",
       "        [ 1.5810, -0.4015, -0.6315,  0.7953]], requires_grad=True)"
      ]
     },
     "execution_count": 43,
     "metadata": {},
     "output_type": "execute_result"
    }
   ],
   "source": [
    "linear_layer.weight"
   ]
  },
  {
   "cell_type": "code",
   "execution_count": 46,
   "id": "96838fe5",
   "metadata": {},
   "outputs": [
    {
     "data": {
      "text/plain": [
       "tensor([[-2.8400, -0.7849, -1.4096, -0.4076,  0.7953],\n",
       "        [ 0.6957, -1.8061, -1.1589,  0.3255, -0.6315],\n",
       "        [ 0.3374, -0.1778, -0.3035, -0.5880,  1.5810],\n",
       "        [ 1.3010,  1.2753, -0.2010, -0.1606, -0.4015]], grad_fn=<MmBackward0>)"
      ]
     },
     "execution_count": 46,
     "metadata": {},
     "output_type": "execute_result"
    }
   ],
   "source": [
    "linear_layer(onehot.float())"
   ]
  },
  {
   "cell_type": "code",
   "execution_count": 48,
   "id": "a0e0c38f",
   "metadata": {},
   "outputs": [
    {
     "data": {
      "text/plain": [
       "tensor([[-2.8400, -0.7849, -1.4096, -0.4076,  0.7953],\n",
       "        [ 0.6957, -1.8061, -1.1589,  0.3255, -0.6315],\n",
       "        [ 0.3374, -0.1778, -0.3035, -0.5880,  1.5810],\n",
       "        [ 1.3010,  1.2753, -0.2010, -0.1606, -0.4015]],\n",
       "       grad_fn=<EmbeddingBackward0>)"
      ]
     },
     "execution_count": 48,
     "metadata": {},
     "output_type": "execute_result"
    }
   ],
   "source": [
    "embedding_layer(temp_input)"
   ]
  },
  {
   "cell_type": "code",
   "execution_count": null,
   "id": "1f28e567",
   "metadata": {},
   "outputs": [],
   "source": []
  }
 ],
 "metadata": {
  "kernelspec": {
   "display_name": "Python 3",
   "language": "python",
   "name": "python3"
  },
  "language_info": {
   "codemirror_mode": {
    "name": "ipython",
    "version": 3
   },
   "file_extension": ".py",
   "mimetype": "text/x-python",
   "name": "python",
   "nbconvert_exporter": "python",
   "pygments_lexer": "ipython3",
   "version": "3.11.13"
  }
 },
 "nbformat": 4,
 "nbformat_minor": 5
}
